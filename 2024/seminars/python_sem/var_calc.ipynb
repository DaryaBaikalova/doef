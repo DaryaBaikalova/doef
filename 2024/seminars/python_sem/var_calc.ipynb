{
 "cells": [
  {
   "attachments": {},
   "cell_type": "markdown",
   "metadata": {},
   "source": [
    "# Вариационное исчисление"
   ]
  },
  {
   "cell_type": "code",
   "execution_count": 2,
   "metadata": {},
   "outputs": [],
   "source": [
    "from scipy.optimize import minimize\n",
    "import matplotlib.pyplot as plt\n",
    "import numpy as np\n",
    "import math"
   ]
  },
  {
   "attachments": {},
   "cell_type": "markdown",
   "metadata": {},
   "source": [
    "# Задача 1\n",
    "\n",
    "$$ \\int_0^2 y^2 + y^{'^{2}} \\text dt$$\n",
    "\n",
    "$$ y(0) = 0 $$\n",
    "\n",
    "$$ y(2) = 1 $$\n",
    "\n",
    "$ y{'} $ на каждом шаге считается как $ \\frac{\\Delta y}{\\Delta t} = \\frac{  y(t) - y(t-1) }{\\Delta t}$\n",
    "\n",
    "Аналитическое решение для $ y $  выглядит так:\n",
    "\n",
    "$$ y = \\exp(t) - \\frac{\\exp(-t)}{\\exp(2) - \\exp(-2)} $$"
   ]
  },
  {
   "cell_type": "code",
   "execution_count": null,
   "metadata": {},
   "outputs": [],
   "source": []
  },
  {
   "cell_type": "code",
   "execution_count": null,
   "metadata": {},
   "outputs": [],
   "source": []
  },
  {
   "attachments": {},
   "cell_type": "markdown",
   "metadata": {},
   "source": [
    "## Задача 2\n",
    "\n",
    "$$ \\int_0^1 y^2 + t^2 \\cdot y^{'^2} \\text dt $$\n",
    "\n",
    "$$ y(0) = 1 $$\n",
    "\n",
    "$$y(1) = 2 $$"
   ]
  },
  {
   "cell_type": "code",
   "execution_count": null,
   "metadata": {},
   "outputs": [],
   "source": []
  },
  {
   "cell_type": "code",
   "execution_count": null,
   "metadata": {},
   "outputs": [],
   "source": []
  },
  {
   "attachments": {},
   "cell_type": "markdown",
   "metadata": {},
   "source": [
    "## Задача 3\n",
    "\n",
    "$$ \\int_0^1 y \\cdot y^{'^2} \\text dt $$\n",
    "\n",
    "$$ y(0) = 1 $$ \n",
    "\n",
    "$$y(1) = 4 $$ \n",
    "\n",
    "Аналитическое решение: $$ y = (7 \\cdot t + 1) ^ {2/3} $$"
   ]
  },
  {
   "cell_type": "code",
   "execution_count": null,
   "metadata": {},
   "outputs": [],
   "source": []
  },
  {
   "cell_type": "code",
   "execution_count": null,
   "metadata": {},
   "outputs": [],
   "source": []
  },
  {
   "attachments": {},
   "cell_type": "markdown",
   "metadata": {},
   "source": [
    "## Задача 4\n",
    "\n",
    "$$ \\int_0^1 y + y^{''^2} \\text dt$$\n",
    "\n",
    "$$ y(0) = 1 $$ \n",
    "\n",
    "$$ y(1) = 4 $$"
   ]
  },
  {
   "cell_type": "code",
   "execution_count": null,
   "metadata": {},
   "outputs": [],
   "source": []
  },
  {
   "cell_type": "code",
   "execution_count": null,
   "metadata": {},
   "outputs": [],
   "source": []
  }
 ],
 "metadata": {
  "kernelspec": {
   "display_name": "venv",
   "language": "python",
   "name": "python3"
  },
  "language_info": {
   "codemirror_mode": {
    "name": "ipython",
    "version": 3
   },
   "file_extension": ".py",
   "mimetype": "text/x-python",
   "name": "python",
   "nbconvert_exporter": "python",
   "pygments_lexer": "ipython3",
   "version": "3.12.2"
  },
  "orig_nbformat": 4
 },
 "nbformat": 4,
 "nbformat_minor": 2
}
